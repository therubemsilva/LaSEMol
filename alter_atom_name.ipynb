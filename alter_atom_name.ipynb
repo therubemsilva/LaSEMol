{
 "cells": [
  {
   "cell_type": "code",
   "execution_count": 123,
   "id": "stainless-tuition",
   "metadata": {},
   "outputs": [],
   "source": [
    "from pymol import cmd\n",
    "import numpy as np"
   ]
  },
  {
   "cell_type": "code",
   "execution_count": 70,
   "id": "accredited-search",
   "metadata": {},
   "outputs": [],
   "source": [
    "aNameDock = ['N1','C10','C9','C11','C8','C12','C7','C13','C19','C15','C1','C14',\n",
    "             'C18','C16','C2','C3','C17','C4','C5','C6','HC10','HC8','HC9',\n",
    "             'HC12','HC11','HC14','HC13','HC6','HC7','HC4','HC5','HC2','HC12',\n",
    "             'HC16','HC','HC1','HC2','HC3','H1','N2','N3','O1','Br1']"
   ]
  },
  {
   "cell_type": "code",
   "execution_count": 71,
   "id": "changed-assets",
   "metadata": {},
   "outputs": [],
   "source": [
    "aNameRm = ['N1','C1','C2','C3','C4','C5','C6','C7','C8','C9','C10','C11','C12',\n",
    "           'C13','C14','C15','C16','C17','C18','C19','H1','H2','H3','H4','H5',\n",
    "           'H6','H7','H8','H9','H10','H11','H12','H13','H14','H15','H16','H17',\n",
    "           'H18','H19','N2','N3','O1','Br1']"
   ]
  },
  {
   "cell_type": "code",
   "execution_count": 72,
   "id": "impressed-lyric",
   "metadata": {},
   "outputs": [
    {
     "name": "stdout",
     "output_type": "stream",
     "text": [
      "43 43\n"
     ]
    }
   ],
   "source": [
    "print(len(aNameDock), len(aNameRm))"
   ]
  },
  {
   "cell_type": "code",
   "execution_count": 77,
   "id": "medieval-maximum",
   "metadata": {},
   "outputs": [],
   "source": [
    "alterName = zip(aNameDock, aNameRm)\n",
    "\n",
    "for oldName, newName in alterName:\n",
    "    def receptor(filename):\n",
    "        cmd.load(filename)\n",
    "        cmd.alter('name str(oldName)', 'name=str(newName)')\n",
    "        cmd.rebuild(\"all\")\n",
    "    cmd.save('receptor.pdb')"
   ]
  },
  {
   "cell_type": "code",
   "execution_count": 81,
   "id": "confident-murray",
   "metadata": {},
   "outputs": [],
   "source": [
    "receptor(\"./5C1M_K46_FLEX_LIG_H.pdb\")"
   ]
  },
  {
   "cell_type": "code",
   "execution_count": 82,
   "id": "sunset-sequence",
   "metadata": {},
   "outputs": [
    {
     "data": {
      "text/html": [
       "<div>\n",
       "<style scoped>\n",
       "    .dataframe tbody tr th:only-of-type {\n",
       "        vertical-align: middle;\n",
       "    }\n",
       "\n",
       "    .dataframe tbody tr th {\n",
       "        vertical-align: top;\n",
       "    }\n",
       "\n",
       "    .dataframe thead th {\n",
       "        text-align: right;\n",
       "    }\n",
       "</style>\n",
       "<table border=\"1\" class=\"dataframe\">\n",
       "  <thead>\n",
       "    <tr style=\"text-align: right;\">\n",
       "      <th></th>\n",
       "      <th>record_name</th>\n",
       "      <th>atom_number</th>\n",
       "      <th>blank_1</th>\n",
       "      <th>atom_name</th>\n",
       "      <th>alt_loc</th>\n",
       "      <th>residue_name</th>\n",
       "      <th>blank_2</th>\n",
       "      <th>chain_id</th>\n",
       "      <th>residue_number</th>\n",
       "      <th>insertion</th>\n",
       "      <th>...</th>\n",
       "      <th>x_coord</th>\n",
       "      <th>y_coord</th>\n",
       "      <th>z_coord</th>\n",
       "      <th>occupancy</th>\n",
       "      <th>b_factor</th>\n",
       "      <th>blank_4</th>\n",
       "      <th>segment_id</th>\n",
       "      <th>element_symbol</th>\n",
       "      <th>charge</th>\n",
       "      <th>line_idx</th>\n",
       "    </tr>\n",
       "  </thead>\n",
       "  <tbody>\n",
       "    <tr>\n",
       "      <th>0</th>\n",
       "      <td>ATOM</td>\n",
       "      <td>1</td>\n",
       "      <td></td>\n",
       "      <td>C1</td>\n",
       "      <td></td>\n",
       "      <td>K46</td>\n",
       "      <td></td>\n",
       "      <td></td>\n",
       "      <td>1</td>\n",
       "      <td></td>\n",
       "      <td>...</td>\n",
       "      <td>1.946</td>\n",
       "      <td>2.038</td>\n",
       "      <td>9.059</td>\n",
       "      <td>1.0</td>\n",
       "      <td>0.0</td>\n",
       "      <td></td>\n",
       "      <td></td>\n",
       "      <td>C</td>\n",
       "      <td>NaN</td>\n",
       "      <td>0</td>\n",
       "    </tr>\n",
       "    <tr>\n",
       "      <th>1</th>\n",
       "      <td>ATOM</td>\n",
       "      <td>2</td>\n",
       "      <td></td>\n",
       "      <td>N1</td>\n",
       "      <td></td>\n",
       "      <td>K46</td>\n",
       "      <td></td>\n",
       "      <td></td>\n",
       "      <td>1</td>\n",
       "      <td></td>\n",
       "      <td>...</td>\n",
       "      <td>0.585</td>\n",
       "      <td>1.583</td>\n",
       "      <td>6.510</td>\n",
       "      <td>1.0</td>\n",
       "      <td>0.0</td>\n",
       "      <td></td>\n",
       "      <td></td>\n",
       "      <td>N</td>\n",
       "      <td>NaN</td>\n",
       "      <td>1</td>\n",
       "    </tr>\n",
       "    <tr>\n",
       "      <th>2</th>\n",
       "      <td>ATOM</td>\n",
       "      <td>3</td>\n",
       "      <td></td>\n",
       "      <td>O1</td>\n",
       "      <td></td>\n",
       "      <td>K46</td>\n",
       "      <td></td>\n",
       "      <td></td>\n",
       "      <td>1</td>\n",
       "      <td></td>\n",
       "      <td>...</td>\n",
       "      <td>3.577</td>\n",
       "      <td>1.509</td>\n",
       "      <td>11.567</td>\n",
       "      <td>1.0</td>\n",
       "      <td>0.0</td>\n",
       "      <td></td>\n",
       "      <td></td>\n",
       "      <td>O</td>\n",
       "      <td>NaN</td>\n",
       "      <td>2</td>\n",
       "    </tr>\n",
       "    <tr>\n",
       "      <th>3</th>\n",
       "      <td>ATOM</td>\n",
       "      <td>4</td>\n",
       "      <td></td>\n",
       "      <td>C2</td>\n",
       "      <td></td>\n",
       "      <td>K46</td>\n",
       "      <td></td>\n",
       "      <td></td>\n",
       "      <td>1</td>\n",
       "      <td></td>\n",
       "      <td>...</td>\n",
       "      <td>2.561</td>\n",
       "      <td>2.447</td>\n",
       "      <td>7.720</td>\n",
       "      <td>1.0</td>\n",
       "      <td>0.0</td>\n",
       "      <td></td>\n",
       "      <td></td>\n",
       "      <td>C</td>\n",
       "      <td>NaN</td>\n",
       "      <td>3</td>\n",
       "    </tr>\n",
       "    <tr>\n",
       "      <th>4</th>\n",
       "      <td>ATOM</td>\n",
       "      <td>5</td>\n",
       "      <td></td>\n",
       "      <td>N2</td>\n",
       "      <td></td>\n",
       "      <td>K46</td>\n",
       "      <td></td>\n",
       "      <td></td>\n",
       "      <td>1</td>\n",
       "      <td></td>\n",
       "      <td>...</td>\n",
       "      <td>2.352</td>\n",
       "      <td>2.935</td>\n",
       "      <td>10.111</td>\n",
       "      <td>1.0</td>\n",
       "      <td>0.0</td>\n",
       "      <td></td>\n",
       "      <td></td>\n",
       "      <td>N</td>\n",
       "      <td>NaN</td>\n",
       "      <td>4</td>\n",
       "    </tr>\n",
       "  </tbody>\n",
       "</table>\n",
       "<p>5 rows × 21 columns</p>\n",
       "</div>"
      ],
      "text/plain": [
       "  record_name  atom_number blank_1 atom_name alt_loc residue_name blank_2  \\\n",
       "0        ATOM            1                C1                  K46           \n",
       "1        ATOM            2                N1                  K46           \n",
       "2        ATOM            3                O1                  K46           \n",
       "3        ATOM            4                C2                  K46           \n",
       "4        ATOM            5                N2                  K46           \n",
       "\n",
       "  chain_id  residue_number insertion  ... x_coord  y_coord  z_coord  \\\n",
       "0                        1            ...   1.946    2.038    9.059   \n",
       "1                        1            ...   0.585    1.583    6.510   \n",
       "2                        1            ...   3.577    1.509   11.567   \n",
       "3                        1            ...   2.561    2.447    7.720   \n",
       "4                        1            ...   2.352    2.935   10.111   \n",
       "\n",
       "   occupancy  b_factor  blank_4 segment_id element_symbol charge  line_idx  \n",
       "0        1.0       0.0                                  C    NaN         0  \n",
       "1        1.0       0.0                                  N    NaN         1  \n",
       "2        1.0       0.0                                  O    NaN         2  \n",
       "3        1.0       0.0                                  C    NaN         3  \n",
       "4        1.0       0.0                                  N    NaN         4  \n",
       "\n",
       "[5 rows x 21 columns]"
      ]
     },
     "execution_count": 82,
     "metadata": {},
     "output_type": "execute_result"
    }
   ],
   "source": [
    "from biopandas.pdb import PandasPdb\n",
    "ppdb = PandasPdb()\n",
    "ppdb.read_pdb('./receptor.pdb')\n",
    "ppdb.df['ATOM'].head()"
   ]
  },
  {
   "cell_type": "code",
   "execution_count": 83,
   "id": "committed-prediction",
   "metadata": {},
   "outputs": [],
   "source": [
    "!cat /home/rubem_silva/PROJETO_IC/lig_opt/K46/K46_OPT.pdb | awk '{print $3}' > ordemk46.txt"
   ]
  },
  {
   "cell_type": "code",
   "execution_count": 84,
   "id": "raising-nomination",
   "metadata": {},
   "outputs": [],
   "source": [
    "import pandas as pd"
   ]
  },
  {
   "cell_type": "code",
   "execution_count": 98,
   "id": "automotive-burns",
   "metadata": {},
   "outputs": [],
   "source": [
    "col_order=['Order']\n",
    "df_order = pd.read_csv('./ordemk46.txt', names=col_order)"
   ]
  },
  {
   "cell_type": "code",
   "execution_count": 111,
   "id": "forward-guidance",
   "metadata": {},
   "outputs": [
    {
     "data": {
      "text/html": [
       "<div>\n",
       "<style scoped>\n",
       "    .dataframe tbody tr th:only-of-type {\n",
       "        vertical-align: middle;\n",
       "    }\n",
       "\n",
       "    .dataframe tbody tr th {\n",
       "        vertical-align: top;\n",
       "    }\n",
       "\n",
       "    .dataframe thead th {\n",
       "        text-align: right;\n",
       "    }\n",
       "</style>\n",
       "<table border=\"1\" class=\"dataframe\">\n",
       "  <thead>\n",
       "    <tr style=\"text-align: right;\">\n",
       "      <th></th>\n",
       "      <th>0</th>\n",
       "      <th>1</th>\n",
       "      <th>2</th>\n",
       "      <th>3</th>\n",
       "      <th>4</th>\n",
       "      <th>5</th>\n",
       "      <th>6</th>\n",
       "      <th>7</th>\n",
       "      <th>8</th>\n",
       "      <th>9</th>\n",
       "      <th>...</th>\n",
       "      <th>35</th>\n",
       "      <th>36</th>\n",
       "      <th>37</th>\n",
       "      <th>38</th>\n",
       "      <th>39</th>\n",
       "      <th>40</th>\n",
       "      <th>41</th>\n",
       "      <th>42</th>\n",
       "      <th>43</th>\n",
       "      <th>44</th>\n",
       "    </tr>\n",
       "  </thead>\n",
       "  <tbody>\n",
       "    <tr>\n",
       "      <th>Order</th>\n",
       "      <td>Br1</td>\n",
       "      <td>Cl1</td>\n",
       "      <td>Cl2</td>\n",
       "      <td>O1</td>\n",
       "      <td>N1</td>\n",
       "      <td>N2</td>\n",
       "      <td>N3</td>\n",
       "      <td>C1</td>\n",
       "      <td>C2</td>\n",
       "      <td>C3</td>\n",
       "      <td>...</td>\n",
       "      <td>H10</td>\n",
       "      <td>H11</td>\n",
       "      <td>H12</td>\n",
       "      <td>H13</td>\n",
       "      <td>H14</td>\n",
       "      <td>H15</td>\n",
       "      <td>H16</td>\n",
       "      <td>H17</td>\n",
       "      <td>H18</td>\n",
       "      <td>H19</td>\n",
       "    </tr>\n",
       "  </tbody>\n",
       "</table>\n",
       "<p>1 rows × 45 columns</p>\n",
       "</div>"
      ],
      "text/plain": [
       "        0    1    2   3   4   5   6   7   8   9   ...   35   36   37   38  \\\n",
       "Order  Br1  Cl1  Cl2  O1  N1  N2  N3  C1  C2  C3  ...  H10  H11  H12  H13   \n",
       "\n",
       "        39   40   41   42   43   44  \n",
       "Order  H14  H15  H16  H17  H18  H19  \n",
       "\n",
       "[1 rows x 45 columns]"
      ]
     },
     "execution_count": 111,
     "metadata": {},
     "output_type": "execute_result"
    }
   ],
   "source": [
    "tOrder = df_order.T\n",
    "tOrder"
   ]
  },
  {
   "cell_type": "code",
   "execution_count": 116,
   "id": "inappropriate-grass",
   "metadata": {},
   "outputs": [
    {
     "name": "stdout",
     "output_type": "stream",
     "text": [
      "['Br1', 'Cl1', 'Cl2', 'O1', 'N1', 'N2', 'N3', 'C1', 'C2', 'C3', 'C4', 'C5', 'C6', 'C7', 'C8', 'C9', 'C10', 'C11', 'C12', 'C13', 'C14', 'C15', 'C16', 'C17', 'C18', 'C19', 'H1', 'H2', 'H3', 'H4', 'H5', 'H6', 'H7', 'H8', 'H9', 'H10', 'H11', 'H12', 'H13', 'H14', 'H15', 'H16', 'H17', 'H18', 'H19']\n"
     ]
    }
   ],
   "source": [
    "orderList = tOrder.loc['Order'].values.tolist()\n",
    "molList = []\n",
    "for x in orderList:\n",
    "    molList.append(x)\n",
    "print(molList)"
   ]
  },
  {
   "cell_type": "code",
   "execution_count": 120,
   "id": "tropical-measurement",
   "metadata": {},
   "outputs": [],
   "source": [
    "mol_list = []\n",
    "for nAtom in molList:\n",
    "    mol = ppdb.df['ATOM'][ppdb.df['ATOM']['atom_name'] == nAtom]\n",
    "    mol_list.append(mol)"
   ]
  },
  {
   "cell_type": "code",
   "execution_count": 151,
   "id": "alone-reunion",
   "metadata": {},
   "outputs": [
    {
     "data": {
      "text/html": [
       "<div>\n",
       "<style scoped>\n",
       "    .dataframe tbody tr th:only-of-type {\n",
       "        vertical-align: middle;\n",
       "    }\n",
       "\n",
       "    .dataframe tbody tr th {\n",
       "        vertical-align: top;\n",
       "    }\n",
       "\n",
       "    .dataframe thead th {\n",
       "        text-align: right;\n",
       "    }\n",
       "</style>\n",
       "<table border=\"1\" class=\"dataframe\">\n",
       "  <thead>\n",
       "    <tr style=\"text-align: right;\">\n",
       "      <th></th>\n",
       "      <th>record_name</th>\n",
       "      <th>atom_number</th>\n",
       "      <th>blank_1</th>\n",
       "      <th>atom_name</th>\n",
       "      <th>alt_loc</th>\n",
       "      <th>residue_name</th>\n",
       "      <th>blank_2</th>\n",
       "      <th>chain_id</th>\n",
       "      <th>residue_number</th>\n",
       "      <th>insertion</th>\n",
       "      <th>...</th>\n",
       "      <th>x_coord</th>\n",
       "      <th>y_coord</th>\n",
       "      <th>z_coord</th>\n",
       "      <th>occupancy</th>\n",
       "      <th>b_factor</th>\n",
       "      <th>blank_4</th>\n",
       "      <th>segment_id</th>\n",
       "      <th>element_symbol</th>\n",
       "      <th>charge</th>\n",
       "      <th>line_idx</th>\n",
       "    </tr>\n",
       "  </thead>\n",
       "  <tbody>\n",
       "    <tr>\n",
       "      <th>23</th>\n",
       "      <td>ATOM</td>\n",
       "      <td>24</td>\n",
       "      <td></td>\n",
       "      <td>Cl1</td>\n",
       "      <td></td>\n",
       "      <td>K46</td>\n",
       "      <td></td>\n",
       "      <td></td>\n",
       "      <td>1</td>\n",
       "      <td></td>\n",
       "      <td>...</td>\n",
       "      <td>0.267</td>\n",
       "      <td>7.422</td>\n",
       "      <td>8.497</td>\n",
       "      <td>1.0</td>\n",
       "      <td>0.0</td>\n",
       "      <td></td>\n",
       "      <td></td>\n",
       "      <td>Cl</td>\n",
       "      <td>NaN</td>\n",
       "      <td>23</td>\n",
       "    </tr>\n",
       "  </tbody>\n",
       "</table>\n",
       "<p>1 rows × 21 columns</p>\n",
       "</div>"
      ],
      "text/plain": [
       "   record_name  atom_number blank_1 atom_name alt_loc residue_name blank_2  \\\n",
       "23        ATOM           24               Cl1                  K46           \n",
       "\n",
       "   chain_id  residue_number insertion  ... x_coord  y_coord  z_coord  \\\n",
       "23                        1            ...   0.267    7.422    8.497   \n",
       "\n",
       "    occupancy  b_factor  blank_4 segment_id element_symbol charge  line_idx  \n",
       "23        1.0       0.0                                 Cl    NaN        23  \n",
       "\n",
       "[1 rows x 21 columns]"
      ]
     },
     "execution_count": 151,
     "metadata": {},
     "output_type": "execute_result"
    }
   ],
   "source": [
    "mol_list[1]"
   ]
  },
  {
   "cell_type": "code",
   "execution_count": 174,
   "id": "applicable-people",
   "metadata": {},
   "outputs": [
    {
     "ename": "TypeError",
     "evalue": "__init__() takes 1 positional argument but 2 were given",
     "output_type": "error",
     "traceback": [
      "\u001b[0;31m---------------------------------------------------------------------------\u001b[0m",
      "\u001b[0;31mTypeError\u001b[0m                                 Traceback (most recent call last)",
      "\u001b[0;32m<ipython-input-174-ed136149c2d8>\u001b[0m in \u001b[0;36m<module>\u001b[0;34m\u001b[0m\n\u001b[1;32m      3\u001b[0m     \u001b[0mdf\u001b[0m \u001b[0;34m=\u001b[0m \u001b[0mdf\u001b[0m\u001b[0;34m.\u001b[0m\u001b[0mappend\u001b[0m\u001b[0;34m(\u001b[0m\u001b[0mi\u001b[0m\u001b[0;34m)\u001b[0m\u001b[0;34m\u001b[0m\u001b[0;34m\u001b[0m\u001b[0m\n\u001b[1;32m      4\u001b[0m \u001b[0;34m\u001b[0m\u001b[0m\n\u001b[0;32m----> 5\u001b[0;31m \u001b[0mppdb\u001b[0m \u001b[0;34m=\u001b[0m \u001b[0mPandasPdb\u001b[0m\u001b[0;34m(\u001b[0m\u001b[0mdf\u001b[0m\u001b[0;34m)\u001b[0m\u001b[0;34m\u001b[0m\u001b[0;34m\u001b[0m\u001b[0m\n\u001b[0m",
      "\u001b[0;31mTypeError\u001b[0m: __init__() takes 1 positional argument but 2 were given"
     ]
    }
   ],
   "source": [
    "df = pd.DataFrame()\n",
    "for i in mol_list:\n",
    "    df = df.append(i)\n",
    "\n",
    "ppdb = PandasPdb(df)"
   ]
  },
  {
   "cell_type": "code",
   "execution_count": 173,
   "id": "british-carbon",
   "metadata": {},
   "outputs": [
    {
     "data": {
      "text/plain": [
       "45"
      ]
     },
     "execution_count": 173,
     "metadata": {},
     "output_type": "execute_result"
    }
   ],
   "source": [
    "len(df['atom_number'])"
   ]
  },
  {
   "cell_type": "code",
   "execution_count": null,
   "id": "successful-handle",
   "metadata": {},
   "outputs": [],
   "source": []
  },
  {
   "cell_type": "code",
   "execution_count": null,
   "id": "automatic-constraint",
   "metadata": {},
   "outputs": [],
   "source": []
  }
 ],
 "metadata": {
  "kernelspec": {
   "display_name": "Python 3",
   "language": "python",
   "name": "python3"
  },
  "language_info": {
   "codemirror_mode": {
    "name": "ipython",
    "version": 3
   },
   "file_extension": ".py",
   "mimetype": "text/x-python",
   "name": "python",
   "nbconvert_exporter": "python",
   "pygments_lexer": "ipython3",
   "version": "3.8.5"
  }
 },
 "nbformat": 4,
 "nbformat_minor": 5
}
